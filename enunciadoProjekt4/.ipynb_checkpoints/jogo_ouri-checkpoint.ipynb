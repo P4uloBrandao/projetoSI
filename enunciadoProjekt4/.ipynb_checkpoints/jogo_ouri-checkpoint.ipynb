{
 "cells": [
  {
   "cell_type": "markdown",
   "metadata": {},
   "source": [
    "# <span style=\"color:blue\"> *Torneio AlfaBeta Ouri*</span>\n",
    "## Sistemas Inteligentes (2022-23)\n",
    "### Projecto IV para avaliação\n",
    "\n",
    "<img src=\"./images/Ori_1.jpg\" style=\"width: 380px;\"/>\n"
   ]
  },
  {
   "cell_type": "markdown",
   "metadata": {},
   "source": [
    "## Ouri \n",
    "\n",
    "O Ouri é um jogo muito antigo, pertence à familia de jogos Mancala.  Possivelmente é de origem egípcia, e está disseminado em África e na Ásia. \n",
    "\n",
    "https://www.ccems.pt/projeto/ouri/\n",
    "\n",
    "Há várias variantes do jogo, vamos usar estas regras:\n",
    "\n",
    "https://www.luduscience.com/regras/ouri.pdf\n",
    "\n",
    "Podem experiementar aqui:\n",
    "\n",
    "https://ouri.ccems.pt/jogo/Ouri.htm\n"
   ]
  },
  {
   "cell_type": "markdown",
   "metadata": {},
   "source": [
    "### Tabuleiro inicial\n",
    "Um tabuleiro quadrado 2x6, com 4 pedras em cada casa, um depósito vazio para cada um dos jogadores.\n",
    "\n",
    "<img src=\"./images/mancala-jogo-tabuleiro-africano-01-1024x768.jpg\" style=\"width: 300px;\"/>\n",
    "\n",
    "### Objectivo\n",
    "Um jogador ganha quando captura mais de metade das peças. Em casos raros pode haver empates."
   ]
  },
  {
   "cell_type": "markdown",
   "metadata": {},
   "source": [
    "### Movimentos\n",
    "\n",
    "Cada jogador, alternadamente, escolhe uma casa com duas ou mais pedras (só pode escolher uma casa com uma pedra se nenhuma outra tiver mais) e pega nelas e distribui-as sequencialmente pelas casas seguintes, na ordem contrária à dos ponteiros do relógio, saltando, se passar por lá, a casa de origem. \n",
    "\n",
    "Se a última pedra terminar no lado do adversário numa casa com duas ou três pedras, pode capturá-las para o seu depósito bem como todas as anteriores contíguas com duas ou três pedras.\n",
    "\n",
    "Se um jogador ficar sem pedras no seu lado, o adversário deve fazer uma jogada que lhe garanta uma ou mais pedras.\n",
    "\n",
    "Há regras especiais para evitar que o jogo entre em ciclo, consultem as regras completas em https://www.luduscience.com/regras/ouri.pdf e ver a programação no ficheiro **La_Ouri.py**.\n"
   ]
  },
  {
   "cell_type": "markdown",
   "metadata": {},
   "source": [
    "## Objectivos do projecto\n",
    "Pretende-se que os grupos de alunos:\n",
    "\n",
    "1. Criem e testem vários jogadores, que farão uso do algoritmo minimax variante alfabeta na sua versão com profundidade limitada. Cada um dos jogadores corresponde a uma função de avaliação a ser usada pelo algoritmo alfa-beta para qualquer profundidade, par ou ímpar. Desenvolvam e comparem o desempenho de vários jogadores, para diferentes limites de profundidade e depois seleccionem o melhor deles.\n",
    "<br><br>\n",
    "3. O jogador seleccionado será utilizado num campeonato de todos contra todos, i.e., o jogador de um grupo irá jogar contra todos os jogadores dos outros grupos, vários jogos e para diferentes níveis de profundidade. Nós próprios entraremos no campeonato com um jogador simples, o <span style=\"color:green\"> ***Kibir***</span>, que procura valorizar a quantidade de pedras no seu lado."
   ]
  },
  {
   "cell_type": "markdown",
   "metadata": {},
   "source": [
    "### Identificação das jogadas\n",
    "\n",
    "Na formulação do jogo, a classe **EstadoOuri** tem um atributo **tabuleiro**, uma lista com 12 componentes inteiras, numerada de 0 a 11.\n",
    "\n",
    "Por exemplo o tabuleiro inicial é este:\n",
    "```Python\n",
    "[4, 4, 4, 4, 4, 4, 4, 4, 4, 4, 4, 4]\n",
    "```\n",
    "\n",
    "As casas de 0 a 5 pertencem ao jogador **\"Um\"** e as casas de 6 a 11 pertencem ao jogador **\"Outro\"**.\n",
    "\n",
    "Assim, as jogadas de **\"Um\"** variam entre 0 e 5, de acordo com as regras que determinam a sua validade. Para **\"Outro\"** as jogadas saem de 6 a 11.\n",
    "\n",
    "Usando o método **estado.display()** podemos ver uma representação visual simples do tabuleiro. Vejamos o seguinte exemplo:\n",
    "\n",
    "```Python\n",
    ">>> j = JogoOuri()\n",
    ">>> s = j.initial\n",
    ">>> j.display()\n",
    ">>> j.display(s)\n",
    "SacoOutro=  0\n",
    "+------------------------\n",
    "| 4 | 4 | 4 | 4 | 4 | 4 |\n",
    "| 4 | 4 | 4 | 4 | 4 | 4 |\n",
    "+------------------------\n",
    "SacoUm=  0\n",
    "--NEXT PLAYER: Um\n",
    ">>> j.actions(s)\n",
    "[0, 1, 2, 3, 4, 5]\n",
    ">>> s1 = j.result(s, 4)\n",
    ">>> j.display(s1)\n",
    "SacoOutro=  0\n",
    "+------------------------\n",
    "| 4 | 4 | 4 | 5 | 5 | 5 |\n",
    "| 4 | 4 | 4 | 4 | 0 | 5 |\n",
    "+------------------------\n",
    "SacoUm=  0\n",
    "--NEXT PLAYER: Outro\n",
    ">>> print(s1.tabuleiro)\n",
    "[4, 4, 4, 4, 0, 5, 5, 5, 5, 4, 4, 4]\n",
    "```\n",
    "    \n",
    "A lista resultante do método **actions()** contém apenas as acções **válidas** para um determinado estado, <span style=\"color:teal\"> ***ordenadas por ordem crescente***</span>.\n",
    "\n",
    "Vejam o código em **La_Ouri.py** para perceber que o **JogoOuri** tem um método **result(.)**, e estudem os atributos e métodos das classes **EstadoOuri** e **JogoOuri**."
   ]
  },
  {
   "cell_type": "markdown",
   "metadata": {},
   "source": [
    "## Jogadores\n",
    "Terão de criar funções de avaliação para os diferentes jogadores que fizerem e testarem. O vosso jogador deve chamar-se ```'jogadorOuri_XX'```, com XX o número do vosso grupo, mas tenham em atenção que a função de avaliação recebe dois argumentos: o estado e o papel como jogador (\"Um\" para 0 a 5 e \"Outro\" para 6 a 11).\n",
    "\n",
    "### Nomes uniformes para os jogadores:\n",
    "Todas as funções de avaliação e especialmente as seleccionadas para serem utilizadas no torneio, terão que ter nomes uniformes, com a assinatura do grupo (XX substituído pelo número do grupo).\n",
    "\n",
    "***func_aval_XX(estado, jogador)***: que devolve o valor estimado do estado para o jogador (\"Um\" para 0 a 5 e \"Outro\" para 6 a 11) do grupo XX. Mantemos a assinatura do ***alphabeta_cutoff_search_new()***. \n",
    "\n",
    "No torneio, os vossos jogadores jogarão várias partidas contra todos os outros incluindo o <span style=\"color:green\"> ***Kibir***</span>, quer como \"Um\", quer como \"Outro\". Por isso testem o jogador em ambas as circunstâncias. A profundidade do ***alphabeta*** será igual para todos, poderá haver um tempo limite, igual para todos, para a execução de cada jogada, por isso vigiem a complexidade computacional da vossa heurística.\n",
    "\n"
   ]
  },
  {
   "cell_type": "markdown",
   "metadata": {},
   "source": [
    "## Jogar e ver o jogo\n",
    "Para testarem e compararem o desempenho dos vários jogadores que desenvolverem, e seleccionarem o melhor jogador, para participar no torneio entre todos os grupos, terão de adaptar os métodos do ficheiro **jogar.py**, que permitem realizar jogos e campeonatos entre vários jogadores. Convém que as vossas funções de avaliação se adaptem a diferentes níveis de profundidade para o alfabeta, que pode ser ímpar ou par, mas que não será muito elevado, porque é preciso que o torneio não demore uma eternidade.\n",
    "\n",
    "<span style=\"color:red\">Lembrem-se de que de acordo com o livro da cadeira, cujo software usamos, a um alphabeta com depth=0 corresponde uma profundidade de um, ou seja, são avaliados os filhos directos do estado corrente. Com depth = 1 são considerados 2 níveis de profundidade, ou seja, filhos e netos, etc.</span>\n",
    "\n",
    "Experimentem o <span style=\"color:green\"> ***Kibir***</span> e comparem o desempenho dos vossos jogadores com o nosso jogador. Quem igualar o desempenho do <span style=\"color:green\"> ***Kibir***</span> terá nota 10, é preciso fazer melhor para chegar ao 20. "
   ]
  },
  {
   "cell_type": "markdown",
   "metadata": {},
   "source": [
    "## Campeonato\n",
    "No torneio que vamos realizar, em formato de campeonato, todos os jogadores irão jogar contra todos os outros: cada um dos atacantes jogará contra todos os outros defensores, vários jogos, para pelo menos dois limites diferentes de profundidade para o alfabeta.\n",
    "\n",
    "A decisão da jogada escolhida pelos jogadores depende de uma função de avaliação adaptada à implementação do estado do jogo para cada grupo.\n",
    "\n",
    "Não podemos esquecer que além dos jogadores dos vários grupos, teremos a participação do <span style=\"color:green\"> ***Kibir***</span>.\n",
    "\n",
    "\n",
    "### Pontuação de cada grupo\n",
    "Notem que o ranking do campeonato é calculado com base na pontuação final de cada grupo, que corresponde ao\n",
    "\n",
    "**número de vitórias de cada jogador como \"Um\" somado ao número de vitórias como \"Outro\" somado a meio ponto por cada empate**.\n",
    "\n",
    "\n",
    "**Jogadas inválidas ou timeout:** No caso de um dos jogadores ultrapassar o tempo limite para uma jogada ou devolver uma jogada inválida, o jogador perde o jogo. Usaremos de bom senso na escolha do tempo limite para seleccionar uma jogada. "
   ]
  },
  {
   "cell_type": "markdown",
   "metadata": {},
   "source": [
    "## Código a não ser alterado\n",
    "<span style=\"color:red\"> Não alterem</span> **jogos.py** nem **utils.py** e **não os devem submeter!** Iremos correr os mesmos 2 ficheiros para todos. <span style=\"color:red\"> Não alterem</span> também o **jogar.py**. \n",
    "Também <span style=\"color:red\"> não alterem</span> a classe **JogoOuri**, no ficheiro **La_Ouri.py**.\n",
    "<br><span style=\"color:red\">Não redefinam</span> funções com o mesmo nome das já existentes em **jogos.py**, **utils.py** oui **La_Ouri.py**.\n",
    "<br>O ideal é que <span style=\"color:red\"> todas as vossas funções devem estar etiquetadas com a assinatura do grupo: o sufixo _XX, para que não se partilhe nem se sobreponha código.</span>\n",
    "\n",
    "O **kibir.py** é o nosso menino e não devem alterar, de qualquer forma executaremos a nossa versão (mu-ahahah!). \n",
    "\n",
    "## <span style=\"color:red\"> Uma nota de prudência </span>  \n",
    "\n",
    "- Verão no código (***comentado***)  de **joga11(.)** que há ciclos muito pouco prováveis mas possíveis que por vezes há ciclos muito longos, com potencial de serem infinitos\n",
    "\n",
    "- Espero que eu tenha detectado todos, mas na dúvida têm sempre os jogos de 500 jogadas para interromper e ver o que se está a passar\n",
    "\n",
    "- de tudo o que experimentei, não vai acontecer, mas já o Douglas Adams previa que a improbabilidade é uma energia essencial do universo\n",
    "\n",
    "- por isso, prudência, façam boas funções que conduzam os jogos a acabar cedo e isso resolve tudo...\n",
    "    "
   ]
  },
  {
   "cell_type": "markdown",
   "metadata": {},
   "source": [
    "## Material de apoio\n",
    "No **zip** com a descrição do projecto, têm, além deste notebook, os ficheiros de utilidades e classe Game <span style=\"color:green\">**utils.py**</span> e <span style=\"color:green\">**jogos.py**</span>, que não devem ser alterados. Têm o ficheiro <span style=\"color:green\">**jogar.py**</span> que não deve ser alterado, e contém ferramentas de apoio à exploração do vosso jogo, classes e métodos para fazer jogadores, jogos um contra um e **n** contra **n** e campeonatos. Têm ainda um método para visualizar o resultado de um jogo, o que vos pode ser útil para entender e melhorar o comportamento das vossas heurísticas.  No <span style=\"color:green\">**kibir.py**</span> têm o feroz jogador Kibir, o africano, e mais algum código para ajudar à exploração do jogo."
   ]
  },
  {
   "cell_type": "markdown",
   "metadata": {},
   "source": [
    "## Avaliação\n",
    "A nota do vosso projecto depende unicamente da classificação do campeonato. \n",
    "   \n",
    "**Torneio**: No torneio, em formato campeonato, vamos incluir o nosso jogador <span style=\"color:green\"> ***Kibir***</span>, cuja função de avaliação valoriza ter muitas pedras do seu lado do tabuleiro.\n",
    "\n",
    "Quem tiver a mesma pontuação total do torneio que o <span style=\"color:red\"> ***Kibir***</span> terá 10 valores. Quem tiver um score total inferior ao nosso jogador terá, naturalmente, negativa (nota menor do que 10). A nota correspondente ao campeonato é uma função linear baseada no ranking no campenato, tanto acima do <span style=\"color:orange\"> ***Kibir***</span> como para baixo. O grupo que ficar em primeiro lugar acima do <span style=\"color:green\"> ***Kibir***</span> terá 20 valores. \n",
    "\n",
    "Por favor cuidem de entregar código ajuizado. Se falharem nomes de ficheiros, nomes de funções ou trivialidades inaceitáveis desse género, serão punidos com severidade. Vamos dizer que <span style=\"color:red\"> ***dos 1.5 valores do projecto perdem logo 3 décimas***</span>, e isso se eu conseguir pôr isso a funcionar em 3 minutos. Caso contrário são logo excluídos do torneio e ficam com zero. Não é maldade, é motivação para um bom trabalho. Olho!   "
   ]
  },
  {
   "cell_type": "markdown",
   "metadata": {},
   "source": [
    "## <span style=\"color:orange\"> **ENTREGA**</span>\n",
    "\n",
    "### <span style=\"color:orange\"> **Ficheiro**</span> \n",
    "Devem entregar um ficheiro ***SI2223-proj4-jog-XX.py:*** com a função **func_aval_XX()** que nós vamos executar no torneio (incluindo eventuais funções auxiliares). **_XX** é o vosso número de grupo, atenção!!! Não se esqueçam de <span style=\"color:teal\"> ***identificar os alunos, com número e nome***</span> em comentário, logo no princípio do ficheiro.\n",
    "\n"
   ]
  },
  {
   "cell_type": "markdown",
   "metadata": {},
   "source": [
    "## <span style=\"color:red\"> PRAZO</span> \n",
    "\n",
    "<img src=\".\\images\\guilhotina_widelg.png\" alt=\"Drawing\" style=\"width: 450px;\"/>\n",
    "\n",
    "Até ao dia **18 de Maio** às 11:59\n",
    "\n",
    "### <span style=\"color:red\"> Graves Penalizações </span>  \n",
    "    - Entregue nas 3hs seguintes: sem penalização\n",
    "    - A partir das 3h até às 12h do dia seguinte: 20% de penalização\n",
    "    - Não é aceite a partir das 12h do dia seguinte."
   ]
  }
 ],
 "metadata": {
  "colab": {
   "collapsed_sections": [],
   "name": "Untitled0.ipynb",
   "provenance": [],
   "version": "0.3.2"
  },
  "kernelspec": {
   "display_name": "Python 3 (ipykernel)",
   "language": "python",
   "name": "python3"
  },
  "language_info": {
   "codemirror_mode": {
    "name": "ipython",
    "version": 3
   },
   "file_extension": ".py",
   "mimetype": "text/x-python",
   "name": "python",
   "nbconvert_exporter": "python",
   "pygments_lexer": "ipython3",
   "version": "3.9.12"
  }
 },
 "nbformat": 4,
 "nbformat_minor": 2
}
